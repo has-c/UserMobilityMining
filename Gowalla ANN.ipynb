{
 "cells": [
  {
   "cell_type": "markdown",
   "metadata": {
    "colab_type": "text",
    "id": "view-in-github"
   },
   "source": [
    "<a href=\"https://colab.research.google.com/github/has-c/UserMobilityMining/blob/master/Gowalla%20ANN.ipynb\" target=\"_parent\"><img src=\"https://colab.research.google.com/assets/colab-badge.svg\" alt=\"Open In Colab\"/></a>"
   ]
  },
  {
   "cell_type": "code",
   "execution_count": 2,
   "metadata": {
    "colab": {
     "base_uri": "https://localhost:8080/",
     "height": 80
    },
    "colab_type": "code",
    "id": "AniSM0JZu5fr",
    "outputId": "0b37c1aa-6145-461a-ed36-5d47d0275141"
   },
   "outputs": [],
   "source": [
    "import numpy as np\n",
    "import pandas as pd\n",
    "import keras\n",
    "from sklearn.preprocessing import StandardScaler, OneHotEncoder\n",
    "from sklearn.model_selection import train_test_split\n",
    "from keras.models import Sequential\n",
    "from keras.layers import Dense\n",
    "from sklearn.metrics import accuracy_score\n",
    "\n",
    "#disable warnings\n",
    "import warnings\n",
    "warnings.filterwarnings(\"ignore\")"
   ]
  },
  {
   "cell_type": "code",
   "execution_count": 4,
   "metadata": {
    "colab": {},
    "colab_type": "code",
    "id": "i5EcQHW6vFBR"
   },
   "outputs": [
    {
     "data": {
      "text/html": [
       "<div>\n",
       "<style scoped>\n",
       "    .dataframe tbody tr th:only-of-type {\n",
       "        vertical-align: middle;\n",
       "    }\n",
       "\n",
       "    .dataframe tbody tr th {\n",
       "        vertical-align: top;\n",
       "    }\n",
       "\n",
       "    .dataframe thead th {\n",
       "        text-align: right;\n",
       "    }\n",
       "</style>\n",
       "<table border=\"1\" class=\"dataframe\">\n",
       "  <thead>\n",
       "    <tr style=\"text-align: right;\">\n",
       "      <th></th>\n",
       "      <th>Unnamed: 0</th>\n",
       "      <th>userid</th>\n",
       "      <th>placeid</th>\n",
       "      <th>Time</th>\n",
       "      <th>Date</th>\n",
       "      <th>lng</th>\n",
       "      <th>lat</th>\n",
       "      <th>relatedMainCategory</th>\n",
       "      <th>relatedSecondaryCategory</th>\n",
       "    </tr>\n",
       "  </thead>\n",
       "  <tbody>\n",
       "    <tr>\n",
       "      <th>0</th>\n",
       "      <td>0</td>\n",
       "      <td>1338</td>\n",
       "      <td>482954</td>\n",
       "      <td>2.400000</td>\n",
       "      <td>2011.476712</td>\n",
       "      <td>-93.177506</td>\n",
       "      <td>44.934198</td>\n",
       "      <td>Nightlife</td>\n",
       "      <td>Bar</td>\n",
       "    </tr>\n",
       "    <tr>\n",
       "      <th>1</th>\n",
       "      <td>1</td>\n",
       "      <td>1338</td>\n",
       "      <td>580963</td>\n",
       "      <td>14.383333</td>\n",
       "      <td>2011.473973</td>\n",
       "      <td>-93.366249</td>\n",
       "      <td>45.204928</td>\n",
       "      <td>Shopping</td>\n",
       "      <td>Gas &amp; Automotive</td>\n",
       "    </tr>\n",
       "    <tr>\n",
       "      <th>2</th>\n",
       "      <td>2</td>\n",
       "      <td>1338</td>\n",
       "      <td>365256</td>\n",
       "      <td>23.483333</td>\n",
       "      <td>2011.438356</td>\n",
       "      <td>-93.277574</td>\n",
       "      <td>44.981997</td>\n",
       "      <td>Entertainment</td>\n",
       "      <td>Arena or Stadium</td>\n",
       "    </tr>\n",
       "    <tr>\n",
       "      <th>3</th>\n",
       "      <td>3</td>\n",
       "      <td>1338</td>\n",
       "      <td>89504</td>\n",
       "      <td>15.900000</td>\n",
       "      <td>2011.389041</td>\n",
       "      <td>-93.153680</td>\n",
       "      <td>44.982573</td>\n",
       "      <td>Entertainment</td>\n",
       "      <td>Zoo</td>\n",
       "    </tr>\n",
       "    <tr>\n",
       "      <th>4</th>\n",
       "      <td>4</td>\n",
       "      <td>1338</td>\n",
       "      <td>1267135</td>\n",
       "      <td>16.850000</td>\n",
       "      <td>2011.386301</td>\n",
       "      <td>-93.187120</td>\n",
       "      <td>44.948173</td>\n",
       "      <td>Shopping</td>\n",
       "      <td>Toys &amp; Games</td>\n",
       "    </tr>\n",
       "  </tbody>\n",
       "</table>\n",
       "</div>"
      ],
      "text/plain": [
       "   Unnamed: 0  userid  placeid       Time         Date        lng        lat  \\\n",
       "0           0    1338   482954   2.400000  2011.476712 -93.177506  44.934198   \n",
       "1           1    1338   580963  14.383333  2011.473973 -93.366249  45.204928   \n",
       "2           2    1338   365256  23.483333  2011.438356 -93.277574  44.981997   \n",
       "3           3    1338    89504  15.900000  2011.389041 -93.153680  44.982573   \n",
       "4           4    1338  1267135  16.850000  2011.386301 -93.187120  44.948173   \n",
       "\n",
       "  relatedMainCategory relatedSecondaryCategory  \n",
       "0           Nightlife                      Bar  \n",
       "1            Shopping         Gas & Automotive  \n",
       "2       Entertainment         Arena or Stadium  \n",
       "3       Entertainment                      Zoo  \n",
       "4            Shopping             Toys & Games  "
      ]
     },
     "execution_count": 4,
     "metadata": {},
     "output_type": "execute_result"
    }
   ],
   "source": [
    "#dataset import\n",
    "featuresDf = pd.read_csv(\"Data/FeatureDf.csv\")\n",
    "featuresDf.head()"
   ]
  },
  {
   "cell_type": "code",
   "execution_count": null,
   "metadata": {},
   "outputs": [],
   "source": [
    "#preprocess the features "
   ]
  },
  {
   "cell_type": "code",
   "execution_count": null,
   "metadata": {
    "colab": {},
    "colab_type": "code",
    "id": "Ndl9u0kTvVd5"
   },
   "outputs": [],
   "source": [
    "#Normalize the data\n",
    "sc = StandardScaler()\n",
    "X = sc.fit_transform(X)"
   ]
  },
  {
   "cell_type": "code",
   "execution_count": null,
   "metadata": {
    "colab": {},
    "colab_type": "code",
    "id": "EFkwaDvivaNj"
   },
   "outputs": [],
   "source": [
    "#one hot encode the classes \n",
    "ohe = OneHotEncoder()\n",
    "y = ohe.fit_transform(y).toarray()"
   ]
  },
  {
   "cell_type": "code",
   "execution_count": null,
   "metadata": {
    "colab": {},
    "colab_type": "code",
    "id": "R5fP31XSvaSU"
   },
   "outputs": [],
   "source": [
    "#train test s"
   ]
  },
  {
   "cell_type": "code",
   "execution_count": null,
   "metadata": {
    "colab": {},
    "colab_type": "code",
    "id": "R9tEAT_HvaU3"
   },
   "outputs": [],
   "source": []
  },
  {
   "cell_type": "code",
   "execution_count": null,
   "metadata": {
    "colab": {},
    "colab_type": "code",
    "id": "m9K3b-Q9vadV"
   },
   "outputs": [],
   "source": []
  },
  {
   "cell_type": "code",
   "execution_count": null,
   "metadata": {
    "colab": {},
    "colab_type": "code",
    "id": "GPL0X_knvahd"
   },
   "outputs": [],
   "source": []
  },
  {
   "cell_type": "code",
   "execution_count": null,
   "metadata": {
    "colab": {},
    "colab_type": "code",
    "id": "nDAO7Colvaj2"
   },
   "outputs": [],
   "source": []
  },
  {
   "cell_type": "code",
   "execution_count": null,
   "metadata": {
    "colab": {},
    "colab_type": "code",
    "id": "RqICs5YLvaRS"
   },
   "outputs": [],
   "source": []
  }
 ],
 "metadata": {
  "colab": {
   "collapsed_sections": [],
   "include_colab_link": true,
   "name": "Gowalla ANN.ipynb",
   "provenance": []
  },
  "kernelspec": {
   "display_name": "Python 3",
   "language": "python",
   "name": "python3"
  },
  "language_info": {
   "codemirror_mode": {
    "name": "ipython",
    "version": 3
   },
   "file_extension": ".py",
   "mimetype": "text/x-python",
   "name": "python",
   "nbconvert_exporter": "python",
   "pygments_lexer": "ipython3",
   "version": "3.6.7"
  }
 },
 "nbformat": 4,
 "nbformat_minor": 4
}
