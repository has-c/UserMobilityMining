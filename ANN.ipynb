{
 "cells": [
  {
   "cell_type": "markdown",
   "metadata": {
    "colab_type": "text",
    "id": "view-in-github"
   },
   "source": [
    "<a href=\"https://colab.research.google.com/github/has-c/UserMobilityMining/blob/master/Gowalla%20ANN.ipynb\" target=\"_parent\"><img src=\"https://colab.research.google.com/assets/colab-badge.svg\" alt=\"Open In Colab\"/></a>"
   ]
  },
  {
   "cell_type": "code",
   "execution_count": 1,
   "metadata": {
    "colab": {
     "base_uri": "https://localhost:8080/",
     "height": 80
    },
    "colab_type": "code",
    "id": "AniSM0JZu5fr",
    "outputId": "0b37c1aa-6145-461a-ed36-5d47d0275141"
   },
   "outputs": [
    {
     "name": "stderr",
     "output_type": "stream",
     "text": [
      "Using TensorFlow backend.\n",
      "/home/usermobilitymining/.local/lib/python3.6/site-packages/tensorflow/python/framework/dtypes.py:516: FutureWarning: Passing (type, 1) or '1type' as a synonym of type is deprecated; in a future version of numpy, it will be understood as (type, (1,)) / '(1,)type'.\n",
      "  _np_qint8 = np.dtype([(\"qint8\", np.int8, 1)])\n",
      "/home/usermobilitymining/.local/lib/python3.6/site-packages/tensorflow/python/framework/dtypes.py:517: FutureWarning: Passing (type, 1) or '1type' as a synonym of type is deprecated; in a future version of numpy, it will be understood as (type, (1,)) / '(1,)type'.\n",
      "  _np_quint8 = np.dtype([(\"quint8\", np.uint8, 1)])\n",
      "/home/usermobilitymining/.local/lib/python3.6/site-packages/tensorflow/python/framework/dtypes.py:518: FutureWarning: Passing (type, 1) or '1type' as a synonym of type is deprecated; in a future version of numpy, it will be understood as (type, (1,)) / '(1,)type'.\n",
      "  _np_qint16 = np.dtype([(\"qint16\", np.int16, 1)])\n",
      "/home/usermobilitymining/.local/lib/python3.6/site-packages/tensorflow/python/framework/dtypes.py:519: FutureWarning: Passing (type, 1) or '1type' as a synonym of type is deprecated; in a future version of numpy, it will be understood as (type, (1,)) / '(1,)type'.\n",
      "  _np_quint16 = np.dtype([(\"quint16\", np.uint16, 1)])\n",
      "/home/usermobilitymining/.local/lib/python3.6/site-packages/tensorflow/python/framework/dtypes.py:520: FutureWarning: Passing (type, 1) or '1type' as a synonym of type is deprecated; in a future version of numpy, it will be understood as (type, (1,)) / '(1,)type'.\n",
      "  _np_qint32 = np.dtype([(\"qint32\", np.int32, 1)])\n",
      "/home/usermobilitymining/.local/lib/python3.6/site-packages/tensorflow/python/framework/dtypes.py:525: FutureWarning: Passing (type, 1) or '1type' as a synonym of type is deprecated; in a future version of numpy, it will be understood as (type, (1,)) / '(1,)type'.\n",
      "  np_resource = np.dtype([(\"resource\", np.ubyte, 1)])\n",
      "/home/usermobilitymining/.local/lib/python3.6/site-packages/tensorboard/compat/tensorflow_stub/dtypes.py:541: FutureWarning: Passing (type, 1) or '1type' as a synonym of type is deprecated; in a future version of numpy, it will be understood as (type, (1,)) / '(1,)type'.\n",
      "  _np_qint8 = np.dtype([(\"qint8\", np.int8, 1)])\n",
      "/home/usermobilitymining/.local/lib/python3.6/site-packages/tensorboard/compat/tensorflow_stub/dtypes.py:542: FutureWarning: Passing (type, 1) or '1type' as a synonym of type is deprecated; in a future version of numpy, it will be understood as (type, (1,)) / '(1,)type'.\n",
      "  _np_quint8 = np.dtype([(\"quint8\", np.uint8, 1)])\n",
      "/home/usermobilitymining/.local/lib/python3.6/site-packages/tensorboard/compat/tensorflow_stub/dtypes.py:543: FutureWarning: Passing (type, 1) or '1type' as a synonym of type is deprecated; in a future version of numpy, it will be understood as (type, (1,)) / '(1,)type'.\n",
      "  _np_qint16 = np.dtype([(\"qint16\", np.int16, 1)])\n",
      "/home/usermobilitymining/.local/lib/python3.6/site-packages/tensorboard/compat/tensorflow_stub/dtypes.py:544: FutureWarning: Passing (type, 1) or '1type' as a synonym of type is deprecated; in a future version of numpy, it will be understood as (type, (1,)) / '(1,)type'.\n",
      "  _np_quint16 = np.dtype([(\"quint16\", np.uint16, 1)])\n",
      "/home/usermobilitymining/.local/lib/python3.6/site-packages/tensorboard/compat/tensorflow_stub/dtypes.py:545: FutureWarning: Passing (type, 1) or '1type' as a synonym of type is deprecated; in a future version of numpy, it will be understood as (type, (1,)) / '(1,)type'.\n",
      "  _np_qint32 = np.dtype([(\"qint32\", np.int32, 1)])\n",
      "/home/usermobilitymining/.local/lib/python3.6/site-packages/tensorboard/compat/tensorflow_stub/dtypes.py:550: FutureWarning: Passing (type, 1) or '1type' as a synonym of type is deprecated; in a future version of numpy, it will be understood as (type, (1,)) / '(1,)type'.\n",
      "  np_resource = np.dtype([(\"resource\", np.ubyte, 1)])\n"
     ]
    }
   ],
   "source": [
    "import numpy as np\n",
    "import pandas as pd\n",
    "import keras\n",
    "from sklearn.preprocessing import StandardScaler, OneHotEncoder, LabelEncoder\n",
    "from sklearn.model_selection import train_test_split\n",
    "from keras.models import Sequential\n",
    "from keras.layers import Dense, Embedding, Softmax\n",
    "from sklearn.metrics import accuracy_score\n",
    "import datetime\n",
    "\n",
    "#disable warnings\n",
    "import warnings\n",
    "warnings.filterwarnings(\"ignore\")"
   ]
  },
  {
   "cell_type": "markdown",
   "metadata": {},
   "source": [
    "## Helper Functions"
   ]
  },
  {
   "cell_type": "code",
   "execution_count": 47,
   "metadata": {},
   "outputs": [],
   "source": [
    "def alignPastCurrentPOI(checkins, dateList):\n",
    "\n",
    "    #group by userId, then checkin date and then order by time \n",
    "    uniqueUserIds = np.unique(checkins['userid'])\n",
    "    uniqueCheckinDates = sorted(np.unique(dateList))\n",
    "\n",
    "    sortedCheckins = pd.DataFrame([])\n",
    "\n",
    "    for userId in uniqueUserIds:\n",
    "        for checkinDate in uniqueCheckinDates:\n",
    "            \n",
    "            #group by userId and checkin date \n",
    "            groupedByUserId = checkins[userId==checkins['userid']]\n",
    "            groupedByCheckinDate = groupedByUserId[groupedByUserId['Date'] == checkinDate]\n",
    "            if groupedByCheckinDate.shape[0] == 0:\n",
    "                continue\n",
    "                \n",
    "            #sort by time \n",
    "            groupedByCheckinDate.sort_values(by ='Time',ascending=True, inplace=True)\n",
    "            groupedByCheckinDate.index = range(0, groupedByCheckinDate.shape[0])\n",
    "            \n",
    "            #create list of sorted checkins \n",
    "            sortedCheckins = pd.concat([sortedCheckins, groupedByCheckinDate], axis=0, ignore_index=True)\n",
    "    \n",
    "    #align past and current checkins - features and labels entire df\n",
    "    pastCurrentCheckins = pd.DataFrame([])\n",
    "\n",
    "    for userId in uniqueUserIds:\n",
    "        \n",
    "        #group by userId\n",
    "        groupedByUserId = sortedCheckins[userId==checkins['userid']]\n",
    "        \n",
    "        for rowIndex in groupedByUserId.index:\n",
    "            try:\n",
    "                pastPOI = groupedByUserId.loc[rowIndex]\n",
    "                currentPOI = groupedByUserId.loc[rowIndex+1]\n",
    "                poiInstance = list(currentPOI) + list(pastPOI)\n",
    "                pastCurrentCheckins = pd.concat([pastCurrentCheckins, pd.DataFrame(poiInstance).T], axis=0)\n",
    "            except KeyError:\n",
    "                break\n",
    "\n",
    "    #rename fields \n",
    "    pastCurrentCheckinDfColumnNames = ['Current ' + name for name in sortedCheckins.columns] + ['Past ' + name for name in sortedCheckins.columns]\n",
    "    pastCurrentCheckins.columns = pastCurrentCheckinDfColumnNames\n",
    "\n",
    "    return pastCurrentCheckins"
   ]
  },
  {
   "cell_type": "markdown",
   "metadata": {},
   "source": [
    "### Preprocessing \n",
    "<ul>\n",
    "    <li> One hot encoding </li>\n",
    "    <li> Standard scaling </li>\n",
    "</ul>"
   ]
  },
  {
   "cell_type": "code",
   "execution_count": 4,
   "metadata": {},
   "outputs": [],
   "source": [
    "#import data\n",
    "checkinsDf = pd.read_csv(\"/home/usermobilitymining/Notebooks/volume/Hasnain/Processed Data/processedCheckins.csv\")\n",
    "nzCheckins = pd.read_csv(\"/home/usermobilitymining/Notebooks/volume/Hasnain/Processed Data/nzCheckinsWithGridTokens.csv\")"
   ]
  },
  {
   "cell_type": "code",
   "execution_count": 6,
   "metadata": {},
   "outputs": [],
   "source": [
    "#join checkins df and nz checkins to only extract NZ checkins \n",
    "checkinsDf['id'] = checkinsDf.index #create id field\n",
    "nzCheckins.drop(\"lat\", axis=1, inplace=True) #drop lat so no error\n",
    "nzCheckins.drop(\"lng\", axis=1, inplace=True) #drop lng so no error\n",
    "checkinsDf = nzCheckins.join(checkinsDf.set_index('id'), on='id')\n",
    "checkinsDf.drop(\"Unnamed: 0\", axis=1, inplace=True)"
   ]
  },
  {
   "cell_type": "code",
   "execution_count": 13,
   "metadata": {},
   "outputs": [],
   "source": [
    "#convert date and time to datetime variables\n",
    "#extract day of the week and hour of checkin\n",
    "checkinDate = [datetime.datetime.strptime(date, \"%Y-%m-%d\").date() for date in checkinsDf['Date']]\n",
    "checkinDay = [date.weekday() for date in checkinDate]\n",
    "checkinTime = [datetime.datetime.strptime(time, '%H:%M:%S').time() for time in checkinsDf['Time']]\n",
    "checkinHour = [time.hour for time in checkinTime]"
   ]
  },
  {
   "cell_type": "code",
   "execution_count": 15,
   "metadata": {},
   "outputs": [],
   "source": [
    "#one hot encode the time variable\n",
    "ohe = OneHotEncoder(dtype=np.int8, n_values=24)\n",
    "hourOfCheckinEncoded = ohe.fit_transform(np.array(checkinHour).reshape(-1,1))\n",
    "timeColumns = ['Time ' + str(num) for num in np.arange(0,24)]\n",
    "timeDf = pd.DataFrame(hourOfCheckinEncoded.toarray(), columns=timeColumns)\n",
    "\n",
    "#one hot encode the day of the week variable\n",
    "ohe = OneHotEncoder(dtype=np.int8, n_values=7)\n",
    "dayOfTheWeekEncoded = ohe.fit_transform(np.array(checkinDay).reshape(-1,1))\n",
    "dayColumns = ['DayOfWeek ' + str(num) for num in np.arange(0,7)]\n",
    "dayDf = pd.DataFrame(dayOfTheWeekEncoded.toarray(), columns=dayColumns)\n",
    "\n",
    "#one hot encode the main category\n",
    "numberOfMainCategories = len(np.unique(checkinsDf['Main Category']))\n",
    "labelEncoder = LabelEncoder()\n",
    "mainCategoriesEncoded = labelEncoder.fit_transform(checkinsDf['Main Category'].values.reshape(-1,1))\n",
    "ohe = OneHotEncoder(dtype=np.int8, n_values=numberOfMainCategories)\n",
    "mainCategoriesEncoded = ohe.fit_transform(mainCategoriesEncoded.reshape(-1,1))\n",
    "categoryDf = pd.DataFrame(mainCategoriesEncoded.toarray(), columns=labelEncoder.classes_)"
   ]
  },
  {
   "cell_type": "code",
   "execution_count": 16,
   "metadata": {},
   "outputs": [],
   "source": [
    "#concat fields\n",
    "checkinsDf = pd.concat([checkinsDf, timeDf], axis=1,copy=False) \n",
    "checkinsDf = pd.concat([checkinsDf, dayDf], axis=1,copy=False) \n",
    "checkinsDf = pd.concat([checkinsDf, categoryDf], axis=1,copy=False) "
   ]
  },
  {
   "cell_type": "code",
   "execution_count": 17,
   "metadata": {},
   "outputs": [],
   "source": [
    "#drop fields \n",
    "checkinsDf.drop(\"Date\", axis=1, inplace=True)\n",
    "checkinsDf.drop(\"Time\", axis=1, inplace=True)\n",
    "checkinsDf.drop(\"Main Category\", axis=1, inplace=True)\n",
    "checkinsDf.drop(\"Locations\", axis=1, inplace=True)"
   ]
  },
  {
   "cell_type": "code",
   "execution_count": 18,
   "metadata": {},
   "outputs": [],
   "source": [
    "#train test split - normal \n",
    "labelDf = checkinsDf[['Community','Entertainment','Food','Nightlife','Outdoors','Shopping','Travel']]\n",
    "featuresDf = checkinsDf.drop(['Community','Entertainment','Food','Nightlife','Outdoors','Shopping','Travel'], axis=1)\n",
    "\n",
    "#train test split\n",
    "featuresTrain, featuresTest, labelTrain, labelTest = train_test_split(featuresDf, labelDf, test_size=0.2, random_state=42)"
   ]
  },
  {
   "cell_type": "markdown",
   "metadata": {},
   "source": [
    "### Neural Net"
   ]
  },
  {
   "cell_type": "code",
   "execution_count": 34,
   "metadata": {
    "colab": {},
    "colab_type": "code",
    "id": "m9K3b-Q9vadV"
   },
   "outputs": [],
   "source": [
    "model = Sequential()\n",
    "model.add(Dense(35, input_dim=45, activation='relu'))\n",
    "model.add(Dense(20, activation='relu'))\n",
    "model.add(Dense(7, activation='softmax'))\n",
    "\n",
    "model.compile(loss='categorical_crossentropy', optimizer='adam', metrics=['accuracy'])"
   ]
  },
  {
   "cell_type": "code",
   "execution_count": 38,
   "metadata": {
    "colab": {},
    "colab_type": "code",
    "id": "nDAO7Colvaj2"
   },
   "outputs": [
    {
     "name": "stdout",
     "output_type": "stream",
     "text": [
      "Epoch 1/100\n",
      "556/556 [==============================] - 0s 41us/step - loss: 1675.7278 - accuracy: 0.4083\n",
      "Epoch 2/100\n",
      "556/556 [==============================] - 0s 43us/step - loss: 1910.8911 - accuracy: 0.3939\n",
      "Epoch 3/100\n",
      "556/556 [==============================] - 0s 38us/step - loss: 1576.3228 - accuracy: 0.4173\n",
      "Epoch 4/100\n",
      "556/556 [==============================] - 0s 41us/step - loss: 1354.5961 - accuracy: 0.4299\n",
      "Epoch 5/100\n",
      "556/556 [==============================] - 0s 41us/step - loss: 1460.5962 - accuracy: 0.4137\n",
      "Epoch 6/100\n",
      "556/556 [==============================] - 0s 41us/step - loss: 1549.8275 - accuracy: 0.4137\n",
      "Epoch 7/100\n",
      "556/556 [==============================] - 0s 44us/step - loss: 1379.9547 - accuracy: 0.4173\n",
      "Epoch 8/100\n",
      "556/556 [==============================] - 0s 43us/step - loss: 1591.1022 - accuracy: 0.4173\n",
      "Epoch 9/100\n",
      "556/556 [==============================] - 0s 41us/step - loss: 1613.1813 - accuracy: 0.4245\n",
      "Epoch 10/100\n",
      "556/556 [==============================] - 0s 46us/step - loss: 1405.6533 - accuracy: 0.4191\n",
      "Epoch 11/100\n",
      "556/556 [==============================] - 0s 43us/step - loss: 1437.6300 - accuracy: 0.4137\n",
      "Epoch 12/100\n",
      "556/556 [==============================] - 0s 41us/step - loss: 1393.1908 - accuracy: 0.4245\n",
      "Epoch 13/100\n",
      "556/556 [==============================] - 0s 39us/step - loss: 1436.5240 - accuracy: 0.3993\n",
      "Epoch 14/100\n",
      "556/556 [==============================] - 0s 42us/step - loss: 1347.8033 - accuracy: 0.3921\n",
      "Epoch 15/100\n",
      "556/556 [==============================] - 0s 42us/step - loss: 1386.2513 - accuracy: 0.4155\n",
      "Epoch 16/100\n",
      "556/556 [==============================] - 0s 41us/step - loss: 1351.2549 - accuracy: 0.4083\n",
      "Epoch 17/100\n",
      "556/556 [==============================] - 0s 42us/step - loss: 1098.5897 - accuracy: 0.4173\n",
      "Epoch 18/100\n",
      "556/556 [==============================] - 0s 41us/step - loss: 1320.0755 - accuracy: 0.4209\n",
      "Epoch 19/100\n",
      "556/556 [==============================] - 0s 47us/step - loss: 1715.0923 - accuracy: 0.3669\n",
      "Epoch 20/100\n",
      "556/556 [==============================] - 0s 43us/step - loss: 1635.0163 - accuracy: 0.4011\n",
      "Epoch 21/100\n",
      "556/556 [==============================] - 0s 39us/step - loss: 1279.4428 - accuracy: 0.4353\n",
      "Epoch 22/100\n",
      "556/556 [==============================] - 0s 42us/step - loss: 1424.0524 - accuracy: 0.4011\n",
      "Epoch 23/100\n",
      "556/556 [==============================] - 0s 37us/step - loss: 931.1339 - accuracy: 0.4550\n",
      "Epoch 24/100\n",
      "556/556 [==============================] - 0s 39us/step - loss: 1066.6648 - accuracy: 0.4820\n",
      "Epoch 25/100\n",
      "556/556 [==============================] - 0s 42us/step - loss: 1141.8992 - accuracy: 0.4299\n",
      "Epoch 26/100\n",
      "556/556 [==============================] - 0s 40us/step - loss: 1151.8453 - accuracy: 0.4442\n",
      "Epoch 27/100\n",
      "556/556 [==============================] - 0s 39us/step - loss: 1262.1350 - accuracy: 0.3957\n",
      "Epoch 28/100\n",
      "556/556 [==============================] - 0s 39us/step - loss: 1690.7153 - accuracy: 0.3867\n",
      "Epoch 29/100\n",
      "556/556 [==============================] - 0s 39us/step - loss: 1610.3788 - accuracy: 0.3903\n",
      "Epoch 30/100\n",
      "556/556 [==============================] - 0s 43us/step - loss: 1675.6099 - accuracy: 0.4263\n",
      "Epoch 31/100\n",
      "556/556 [==============================] - 0s 43us/step - loss: 1407.9306 - accuracy: 0.4137\n",
      "Epoch 32/100\n",
      "556/556 [==============================] - 0s 42us/step - loss: 1142.9588 - accuracy: 0.4478\n",
      "Epoch 33/100\n",
      "556/556 [==============================] - 0s 40us/step - loss: 1353.3126 - accuracy: 0.3921\n",
      "Epoch 34/100\n",
      "556/556 [==============================] - 0s 42us/step - loss: 991.4799 - accuracy: 0.4353\n",
      "Epoch 35/100\n",
      "556/556 [==============================] - 0s 43us/step - loss: 1521.8326 - accuracy: 0.4460\n",
      "Epoch 36/100\n",
      "556/556 [==============================] - 0s 42us/step - loss: 1823.0420 - accuracy: 0.3651\n",
      "Epoch 37/100\n",
      "556/556 [==============================] - 0s 42us/step - loss: 1819.6281 - accuracy: 0.3759\n",
      "Epoch 38/100\n",
      "556/556 [==============================] - 0s 42us/step - loss: 1996.9370 - accuracy: 0.3903\n",
      "Epoch 39/100\n",
      "556/556 [==============================] - 0s 40us/step - loss: 1679.2034 - accuracy: 0.3993\n",
      "Epoch 40/100\n",
      "556/556 [==============================] - 0s 40us/step - loss: 1237.6980 - accuracy: 0.4155\n",
      "Epoch 41/100\n",
      "556/556 [==============================] - 0s 41us/step - loss: 1322.0241 - accuracy: 0.4119\n",
      "Epoch 42/100\n",
      "556/556 [==============================] - 0s 43us/step - loss: 1170.8994 - accuracy: 0.4442\n",
      "Epoch 43/100\n",
      "556/556 [==============================] - 0s 40us/step - loss: 965.0332 - accuracy: 0.4622\n",
      "Epoch 44/100\n",
      "556/556 [==============================] - 0s 43us/step - loss: 969.9984 - accuracy: 0.4406\n",
      "Epoch 45/100\n",
      "556/556 [==============================] - 0s 39us/step - loss: 1173.8265 - accuracy: 0.4442\n",
      "Epoch 46/100\n",
      "556/556 [==============================] - 0s 39us/step - loss: 1102.3989 - accuracy: 0.4406\n",
      "Epoch 47/100\n",
      "556/556 [==============================] - 0s 37us/step - loss: 1011.5236 - accuracy: 0.4371\n",
      "Epoch 48/100\n",
      "556/556 [==============================] - 0s 40us/step - loss: 973.9874 - accuracy: 0.4371\n",
      "Epoch 49/100\n",
      "556/556 [==============================] - 0s 38us/step - loss: 1356.0780 - accuracy: 0.3993\n",
      "Epoch 50/100\n",
      "556/556 [==============================] - 0s 37us/step - loss: 1627.6899 - accuracy: 0.3849\n",
      "Epoch 51/100\n",
      "556/556 [==============================] - 0s 39us/step - loss: 1346.9563 - accuracy: 0.4209\n",
      "Epoch 52/100\n",
      "556/556 [==============================] - 0s 40us/step - loss: 1305.7258 - accuracy: 0.3921\n",
      "Epoch 53/100\n",
      "556/556 [==============================] - 0s 40us/step - loss: 1036.7951 - accuracy: 0.4245\n",
      "Epoch 54/100\n",
      "556/556 [==============================] - 0s 40us/step - loss: 1380.1370 - accuracy: 0.4047\n",
      "Epoch 55/100\n",
      "556/556 [==============================] - 0s 38us/step - loss: 1645.4967 - accuracy: 0.4101\n",
      "Epoch 56/100\n",
      "556/556 [==============================] - 0s 36us/step - loss: 1255.9341 - accuracy: 0.4550\n",
      "Epoch 57/100\n",
      "556/556 [==============================] - 0s 37us/step - loss: 1132.8861 - accuracy: 0.4281\n",
      "Epoch 58/100\n",
      "556/556 [==============================] - 0s 39us/step - loss: 1024.8002 - accuracy: 0.4191\n",
      "Epoch 59/100\n",
      "556/556 [==============================] - 0s 39us/step - loss: 925.9875 - accuracy: 0.4281\n",
      "Epoch 60/100\n",
      "556/556 [==============================] - 0s 41us/step - loss: 1252.1535 - accuracy: 0.4047\n",
      "Epoch 61/100\n",
      "556/556 [==============================] - 0s 38us/step - loss: 1485.6978 - accuracy: 0.4101\n",
      "Epoch 62/100\n",
      "556/556 [==============================] - 0s 36us/step - loss: 2077.5383 - accuracy: 0.3939\n",
      "Epoch 63/100\n",
      "556/556 [==============================] - 0s 38us/step - loss: 2142.4919 - accuracy: 0.3561\n",
      "Epoch 64/100\n",
      "556/556 [==============================] - 0s 38us/step - loss: 1590.9048 - accuracy: 0.4083\n",
      "Epoch 65/100\n",
      "556/556 [==============================] - 0s 40us/step - loss: 1135.7589 - accuracy: 0.4676\n",
      "Epoch 66/100\n",
      "556/556 [==============================] - 0s 43us/step - loss: 1140.8129 - accuracy: 0.4281\n",
      "Epoch 67/100\n",
      "556/556 [==============================] - 0s 43us/step - loss: 1489.9243 - accuracy: 0.4299\n",
      "Epoch 68/100\n",
      "556/556 [==============================] - 0s 41us/step - loss: 1295.1256 - accuracy: 0.4460\n",
      "Epoch 69/100\n",
      "556/556 [==============================] - 0s 35us/step - loss: 1399.6019 - accuracy: 0.4029\n",
      "Epoch 70/100\n",
      "556/556 [==============================] - 0s 42us/step - loss: 1608.7975 - accuracy: 0.3813\n",
      "Epoch 71/100\n",
      "556/556 [==============================] - 0s 42us/step - loss: 1112.8862 - accuracy: 0.4299\n",
      "Epoch 72/100\n",
      "556/556 [==============================] - 0s 40us/step - loss: 959.0538 - accuracy: 0.4119\n",
      "Epoch 73/100\n",
      "556/556 [==============================] - 0s 41us/step - loss: 1145.2548 - accuracy: 0.4209\n",
      "Epoch 74/100\n",
      "556/556 [==============================] - 0s 39us/step - loss: 1310.7394 - accuracy: 0.4083\n",
      "Epoch 75/100\n",
      "556/556 [==============================] - 0s 39us/step - loss: 1146.3242 - accuracy: 0.3939\n",
      "Epoch 76/100\n",
      "556/556 [==============================] - 0s 40us/step - loss: 1347.0846 - accuracy: 0.4155\n",
      "Epoch 77/100\n",
      "556/556 [==============================] - 0s 39us/step - loss: 1488.1372 - accuracy: 0.4083\n",
      "Epoch 78/100\n"
     ]
    },
    {
     "name": "stdout",
     "output_type": "stream",
     "text": [
      "556/556 [==============================] - 0s 39us/step - loss: 1557.3719 - accuracy: 0.4101\n",
      "Epoch 79/100\n",
      "556/556 [==============================] - 0s 48us/step - loss: 1384.4100 - accuracy: 0.4155\n",
      "Epoch 80/100\n",
      "556/556 [==============================] - 0s 39us/step - loss: 1712.8653 - accuracy: 0.3705\n",
      "Epoch 81/100\n",
      "556/556 [==============================] - 0s 35us/step - loss: 1422.8639 - accuracy: 0.4119\n",
      "Epoch 82/100\n",
      "556/556 [==============================] - 0s 40us/step - loss: 1430.6538 - accuracy: 0.4101\n",
      "Epoch 83/100\n",
      "556/556 [==============================] - 0s 39us/step - loss: 1401.1207 - accuracy: 0.4406\n",
      "Epoch 84/100\n",
      "556/556 [==============================] - 0s 37us/step - loss: 1098.8883 - accuracy: 0.4317\n",
      "Epoch 85/100\n",
      "556/556 [==============================] - 0s 37us/step - loss: 1387.8926 - accuracy: 0.3867\n",
      "Epoch 86/100\n",
      "556/556 [==============================] - 0s 42us/step - loss: 1124.0422 - accuracy: 0.4227\n",
      "Epoch 87/100\n",
      "556/556 [==============================] - 0s 37us/step - loss: 1028.4297 - accuracy: 0.4083\n",
      "Epoch 88/100\n",
      "556/556 [==============================] - 0s 36us/step - loss: 1078.0537 - accuracy: 0.4029\n",
      "Epoch 89/100\n",
      "556/556 [==============================] - 0s 38us/step - loss: 935.3493 - accuracy: 0.4784\n",
      "Epoch 90/100\n",
      "556/556 [==============================] - 0s 38us/step - loss: 1527.5557 - accuracy: 0.3849\n",
      "Epoch 91/100\n",
      "556/556 [==============================] - 0s 39us/step - loss: 1100.4508 - accuracy: 0.4029\n",
      "Epoch 92/100\n",
      "556/556 [==============================] - 0s 37us/step - loss: 1008.3224 - accuracy: 0.4173\n",
      "Epoch 93/100\n",
      "556/556 [==============================] - 0s 37us/step - loss: 1847.8198 - accuracy: 0.4047\n",
      "Epoch 94/100\n",
      "556/556 [==============================] - 0s 38us/step - loss: 1670.7346 - accuracy: 0.3561\n",
      "Epoch 95/100\n",
      "556/556 [==============================] - 0s 35us/step - loss: 1510.7602 - accuracy: 0.3867\n",
      "Epoch 96/100\n",
      "556/556 [==============================] - 0s 34us/step - loss: 852.1242 - accuracy: 0.4514\n",
      "Epoch 97/100\n",
      "556/556 [==============================] - 0s 40us/step - loss: 1280.2795 - accuracy: 0.4173\n",
      "Epoch 98/100\n",
      "556/556 [==============================] - 0s 38us/step - loss: 1386.4926 - accuracy: 0.4245\n",
      "Epoch 99/100\n",
      "556/556 [==============================] - 0s 41us/step - loss: 980.3482 - accuracy: 0.4478\n",
      "Epoch 100/100\n",
      "556/556 [==============================] - 0s 42us/step - loss: 867.2077 - accuracy: 0.4658\n"
     ]
    }
   ],
   "source": [
    "#fit model \n",
    "history = model.fit(featuresTrain, labelTrain, epochs=100)"
   ]
  },
  {
   "cell_type": "code",
   "execution_count": 24,
   "metadata": {
    "colab": {},
    "colab_type": "code",
    "id": "RqICs5YLvaRS"
   },
   "outputs": [],
   "source": [
    "#predict\n",
    "labelPredicted = model.predict(featuresTest)"
   ]
  },
  {
   "cell_type": "code",
   "execution_count": null,
   "metadata": {},
   "outputs": [],
   "source": []
  },
  {
   "cell_type": "code",
   "execution_count": null,
   "metadata": {},
   "outputs": [],
   "source": []
  }
 ],
 "metadata": {
  "colab": {
   "collapsed_sections": [],
   "include_colab_link": true,
   "name": "Gowalla ANN.ipynb",
   "provenance": []
  },
  "kernelspec": {
   "display_name": "Python 3",
   "language": "python",
   "name": "python3"
  },
  "language_info": {
   "codemirror_mode": {
    "name": "ipython",
    "version": 3
   },
   "file_extension": ".py",
   "mimetype": "text/x-python",
   "name": "python",
   "nbconvert_exporter": "python",
   "pygments_lexer": "ipython3",
   "version": "3.6.7"
  }
 },
 "nbformat": 4,
 "nbformat_minor": 4
}
